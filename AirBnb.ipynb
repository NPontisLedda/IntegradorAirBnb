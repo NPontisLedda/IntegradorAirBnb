{
 "cells": [
  {
   "cell_type": "markdown",
   "metadata": {},
   "source": [
    "<h1>Práctico integrador sobre AirBnb."
   ]
  },
  {
   "cell_type": "markdown",
   "metadata": {},
   "source": [
    "<h3> El objetivo que se busca con el análisis de los datos seleccionados es realizar un análisis exploratorio de tipo descriptivo para entender el negocio de airbnb. \n",
    "En base al análisis descriptivo encontrar oportunidades de inversión que puedan ser capitalizadas utilizando dicho modelo de negocio."
   ]
  },
  {
   "cell_type": "markdown",
   "metadata": {},
   "source": [
    "En primera instancia cargué los archivos CSV (calendar, listings y reviews), a PowerBI."
   ]
  },
  {
   "cell_type": "markdown",
   "metadata": {},
   "source": [
    "Luego, utilizando la herramienta de PowerQuery, comencé con el proceso de filtrado de datos y elimino columnas <br>\n",
    "que no aportan valor útil al análisis. Tambié tuve que hacer algunas modificaciones en la tabla listings, <br>\n",
    "por ejemplo, en la columna state realicé modificaciones porque habían datos escritos de diferentes maneras, pero que referían a lo mismo<br>\n",
    "y dificultaba la visual"
   ]
  },
  {
   "cell_type": "markdown",
   "metadata": {},
   "source": [
    "Una vez realizado todo el proceso de ETL, procedo a empezar con el análisis y buscar tendencias o datos útiles para responder algunas preguntas."
   ]
  },
  {
   "cell_type": "markdown",
   "metadata": {},
   "source": [
    "### Preguntas \n",
    "\n",
    "* 1¿Qué podemos describir con los datasets acerca del negocio de airbnb?\n",
    "* 2¿Cuál es la mejor forma de invertir en AirBnb?\n",
    "* 3¿Cómo se compara con otras alternativas de inversión?\n",
    "* 4 Si presentamos nuestras conclusiones a un grupo inversor: ¿Qué propuestas le haríamos?\n",
    "* 5¿En donde sugerimos invertir?\n",
    "* 6¿En qué tipo de propiedad?"
   ]
  },
  {
   "cell_type": "markdown",
   "metadata": {},
   "source": [
    "### Respuestas\n",
    "\n",
    "* 1- Lo que podemos describir sobre AirBnb, es el enfoque de la empresa hacia la comodidad tanto del cliente, como así también de cada anfitrión asociado a la empresa. Se detalla muy bien los datos de cada propiedad, la exigencia para con los anfitriones respecto a las condiciones de la propiedad en lo que es limpieza, seguridad, descripción de cada lugar, medios de contacto ante cualquier ocasión, lo que garantiza al cliente respuesta plena de su parte. Por otro lado, a la persona anfitriona también se le otorgan ciertas garantías de confianza, por ejemplo las exigencias de limpieza para con los clientes, la exigencia de pago anticipado de reservación al cliente, etc. Es un negocio que, como cualquier otro, ha crecido y sigue creciendo día a día y que garantiza, tanto a cliente como anfitrión, tranquilidad al momento del alquiler de un espacio.\n",
    "\n",
    "* 2- Una buena forma de invertir es la de adquirir una vivienda en zonas populares y elegidas mayoritariamente por los clientes, que a su vez sean tranquilas y agradables para que el cliente pueda relajarse y no tener inconvenientes con problemas tales como ruidos molestos por discotecas y demás. Pero también es bueno tener en cuenta que la propiedad quede en una zona en las cercanías del aeropuerto Jorge Newbery, ya que podemos apuntar a clientes extranjeros sin ningún tipo de inconvenientes. También una buena opción a tener en cuenta es la superficie cubierta por la vivienda, ya que si vamos a enfocarnos en clientes extranjeros, lo ideal es adquirir una vivienda de tipo departamento porque resulta más cómodo y práctico.\n",
    "\n",
    "* 3- En comparación con otras alternativas posee un enfoque certero, ya que nos centramos en dos puntos sumamente importantes al momento de busquedas como son la tranquilidad y cercanía con el aeropuerto.\n",
    "\n",
    "* 4- A mi parecer, una buena inversión en AirBnb (según las estadísticas que se pueden ver) es la de adquirir el departamento ubicado en Palermo Hollywood (listings_id número 68489), ya que sus reseñas son muy positivas en todos los aspectos, pero lo que más se destaca de la propiedad es la ubicación y comodidad para los clientes. Otra buena inversión, es la de adquirir el departamento ubicado en Palermo Soho (listings_id número 34715670) debido a su cercanía directa con el aeropuerto, lamentablemente no hay reseñas sobre el inmueble, pero puede ser una buena opción para atraer turistas que hayan tenido problemas de vuelos y quieran alquilar algo momentáneo en las cercanías del aeropuerto.\n",
    "\n",
    "* 5- La sugerencia sería invertir principalmente en la zona de Palermo. \n",
    "\n",
    "* 6- El tipo de propiedad sugerida sería Departamento, ya que resulta un ambiente cómodo y práctico.\n",
    "\n"
   ]
  }
 ],
 "metadata": {
  "language_info": {
   "name": "python"
  }
 },
 "nbformat": 4,
 "nbformat_minor": 2
}
